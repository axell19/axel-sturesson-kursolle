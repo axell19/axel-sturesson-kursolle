{
 "metadata": {
  "language_info": {
   "codemirror_mode": {
    "name": "ipython",
    "version": 3
   },
   "file_extension": ".py",
   "mimetype": "text/x-python",
   "name": "python",
   "nbconvert_exporter": "python",
   "pygments_lexer": "ipython3",
   "version": "3.8.3-final"
  },
  "orig_nbformat": 2,
  "kernelspec": {
   "name": "python3",
   "display_name": "Python 3",
   "language": "python"
  }
 },
 "nbformat": 4,
 "nbformat_minor": 2,
 "cells": [
  {
   "cell_type": "code",
   "execution_count": 18,
   "metadata": {},
   "outputs": [
    {
     "output_type": "stream",
     "name": "stdout",
     "text": [
      "Rektangelns area blir:\n72\n\nHöjden  |  Volymen\n1       |  72\n2       |  144\n3       |  216\n4       |  288\n5       |  360\n6       |  432\n7       |  504\n8       |  576\n9       |  648\n10       |  720\n"
     ]
    }
   ],
   "source": [
    "#Låter användaren bestämma sidornas längd på en rektangel.\n",
    "höjd = int(input(\"Skriv in hur lång du vill att rektangelns höjd ska vara i heltal\"))\n",
    "längd = int(input(\"Skriv in hur lång du vill att rektangelns längd ska vara i heltal\"))\n",
    "\n",
    "#Printar ut att rektangeln är en kvadrat om sidorna är lika långa och vad arean då blir.\n",
    "area = höjd*längd\n",
    "if höjd == längd:\n",
    "    print(\"Sidorna är lika långa så det är en kvadrat och arean blir:\")\n",
    "    print(höjd * längd)\n",
    "\n",
    "#Ränkar ut vad rektangelns area blir. \n",
    "else:\n",
    "    print(\"Rektangelns area blir:\")\n",
    "    print(area)\n",
    "\n",
    "höjder = (\"1\", \"2\", \"3\", \"4\", \"5\", \"6\", \"7\", \"8\", \"9\", \"10\")\n",
    "#Loopar en lista med höjden och volymen med hjälp av en for loop. Volymen är area gånger höjd så jag multiplicerade \"i\" som var med i for loopen med area så får vi volymen.\n",
    "print(\"\\nHöjden  |  Volymen\")\n",
    "for i in range(1, 11):\n",
    "    print(f\"{i}       |  {i*area}\")"
   ]
  },
  {
   "cell_type": "code",
   "execution_count": null,
   "metadata": {},
   "outputs": [],
   "source": []
  }
 ]
}